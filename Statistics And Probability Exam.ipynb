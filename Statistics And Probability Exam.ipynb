{
 "cells": [
  {
   "cell_type": "markdown",
   "id": "11950f16",
   "metadata": {},
   "source": [
    "<H3>\n",
    "Question 1\n",
    "<H3>"
   ]
  },
  {
   "cell_type": "code",
   "execution_count": 5,
   "id": "fdddc26d",
   "metadata": {},
   "outputs": [
    {
     "name": "stdout",
     "output_type": "stream",
     "text": [
      "The total probability is : 0.01656862745098039\n"
     ]
    }
   ],
   "source": [
    "p1=13/52 #probability of diamond card in first draw\n",
    "p2=13/51 #probability of heart card in second draw\n",
    "p3=13/50 #probability of spade card in third draw\n",
    "p=p1*p2*p3\n",
    "print(\"The total probability is :\",p)"
   ]
  },
  {
   "cell_type": "markdown",
   "id": "8c3e8adf",
   "metadata": {},
   "source": [
    "<H3>\n",
    "Question 2\n",
    "<H3>"
   ]
  },
  {
   "cell_type": "code",
   "execution_count": 10,
   "id": "a7bb36ac",
   "metadata": {},
   "outputs": [
    {
     "name": "stdout",
     "output_type": "stream",
     "text": [
      "The probability of either action or drama : 0.86\n",
      "The probability of either comedy or horror : 0.66\n"
     ]
    }
   ],
   "source": [
    "P1=42/100 #probability of liking action movies\n",
    "p2=54/100 #probability of liking comedy movies\n",
    "p3=36/100 #probability of liking drama movies\n",
    "p4=12/100 #probability of liking horror movies\n",
    "pA=p1+p3 #probability of either action or drama\n",
    "pB=p2+p4 #The probability of either comedy or horror\n",
    "print(\"The probability of either action or drama :\",pA)\n",
    "print(\"The probability of either comedy or horror :\",pB)"
   ]
  },
  {
   "cell_type": "markdown",
   "id": "d3e7a33b",
   "metadata": {},
   "source": [
    "<H3>\n",
    "Question 3\n",
    "<H3>"
   ]
  },
  {
   "cell_type": "code",
   "execution_count": 12,
   "id": "872e106a",
   "metadata": {},
   "outputs": [
    {
     "name": "stdout",
     "output_type": "stream",
     "text": [
      "The probability of bag B selected is : 0.7166838842975205\n"
     ]
    }
   ],
   "source": [
    "p1=1/2 #probability of bag A\n",
    "p2=1/2 #probability of bag B\n",
    "p3=5/8 #probability of black ball from bag A\n",
    "p4=7/11 #probability of black ball from bag B\n",
    "p5=(p2+p4)*((p1*p3)+(p2*p4))\n",
    "print(\"The probability of bag B selected is :\",p5)"
   ]
  },
  {
   "cell_type": "markdown",
   "id": "b7771ab1",
   "metadata": {},
   "source": [
    "<H3>\n",
    "Question 4\n",
    "<H3>"
   ]
  },
  {
   "cell_type": "code",
   "execution_count": 29,
   "id": "f2942754",
   "metadata": {},
   "outputs": [
    {
     "name": "stdout",
     "output_type": "stream",
     "text": [
      "The probability of receiving of 10 app in 1 min is: 0.08583037040867346\n",
      "The probability of receiving atlest 17 app in 2 min is: 0.0011688649831234608\n"
     ]
    }
   ],
   "source": [
    "λ=450/60\n",
    "from scipy.stats import poisson\n",
    "A=poisson.pmf(k=10, mu=lamda)\n",
    "B=poisson.pmf(k=17, mu=lamda)\n",
    "print(\"The probability of receiving of 10 app in 1 min is:\",A)\n",
    "print(\"The probability of receiving atlest 17 app in 2 min is:\",B)\n"
   ]
  },
  {
   "cell_type": "markdown",
   "id": "b57765a0",
   "metadata": {},
   "source": [
    "<H3>\n",
    "Question 7\n",
    "<H3>"
   ]
  },
  {
   "cell_type": "code",
   "execution_count": 18,
   "id": "a9443243",
   "metadata": {},
   "outputs": [
    {
     "name": "stdout",
     "output_type": "stream",
     "text": [
      "The value of F-Statistics is  : 0.9921235138705414\n"
     ]
    }
   ],
   "source": [
    "union_city=[44,21,36,34,77,32,29,39,92,67,45,37]\n",
    "mountain_view=[47,81,41,79,38,20,33,83,41,40,69,36]\n",
    "import numpy as np\n",
    "a = np.array(union_city)\n",
    "b = np.array(mountain_view)\n",
    "f = np.var(a, ddof=1)/np.var(b, ddof=1)\n",
    "print(\"The value of F-Statistics is  :\",f)"
   ]
  },
  {
   "cell_type": "markdown",
   "id": "21ad9c99",
   "metadata": {},
   "source": [
    "<H3>\n",
    "Question 8\n",
    "<H3>"
   ]
  },
  {
   "cell_type": "code",
   "execution_count": null,
   "id": "83b507b4",
   "metadata": {},
   "outputs": [],
   "source": []
  },
  {
   "cell_type": "markdown",
   "id": "f8ebbf35",
   "metadata": {},
   "source": [
    "<H3>\n",
    "Question 9\n",
    "<H3>"
   ]
  },
  {
   "cell_type": "code",
   "execution_count": 17,
   "id": "ee12302d",
   "metadata": {},
   "outputs": [
    {
     "name": "stdout",
     "output_type": "stream",
     "text": [
      "probability is : 0.040177141568228006\n"
     ]
    }
   ],
   "source": [
    "from scipy.stats import poisson\n",
    "probability = poisson.pmf(k=80,mu=76)\n",
    "print(\"probability is :\",probability)"
   ]
  }
 ],
 "metadata": {
  "kernelspec": {
   "display_name": "Python 3 (ipykernel)",
   "language": "python",
   "name": "python3"
  },
  "language_info": {
   "codemirror_mode": {
    "name": "ipython",
    "version": 3
   },
   "file_extension": ".py",
   "mimetype": "text/x-python",
   "name": "python",
   "nbconvert_exporter": "python",
   "pygments_lexer": "ipython3",
   "version": "3.9.7"
  }
 },
 "nbformat": 4,
 "nbformat_minor": 5
}
